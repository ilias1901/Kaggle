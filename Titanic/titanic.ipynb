{
 "cells": [
  {
   "cell_type": "markdown",
   "id": "ae24ffa9",
   "metadata": {},
   "source": [
    "**Import Libraries**"
   ]
  },
  {
   "cell_type": "code",
   "execution_count": 1,
   "id": "7c9c4aa3",
   "metadata": {},
   "outputs": [],
   "source": [
    "import pandas as pd\n",
    "import numpy as np\n",
    "from numpy import exp\n",
    "import matplotlib.pyplot as plt\n",
    "import seaborn as sns\n",
    "from phik.report import plot_correlation_matrix\n",
    "from phik import report\n",
    "from sklearn.preprocessing import OrdinalEncoder\n",
    "from sklearn.preprocessing import StandardScaler, OneHotEncoder\n",
    "from sklearn.model_selection import cross_val_score\n",
    "from sklearn.preprocessing import PowerTransformer\n",
    "from sklearn.model_selection import KFold\n",
    "from sklearn.model_selection import GridSearchCV\n",
    "from sklearn.ensemble import RandomForestClassifier\n",
    "from sklearn.linear_model import LogisticRegression\n",
    "from xgboost import XGBClassifier\n",
    "from sklearn.calibration import CalibratedClassifierCV, calibration_curve"
   ]
  },
  {
   "cell_type": "markdown",
   "id": "fab4dcac",
   "metadata": {},
   "source": [
    "## Load the dataset"
   ]
  },
  {
   "cell_type": "code",
   "execution_count": 2,
   "id": "d68fec3d",
   "metadata": {},
   "outputs": [
    {
     "data": {
      "text/html": [
       "<div>\n",
       "<style scoped>\n",
       "    .dataframe tbody tr th:only-of-type {\n",
       "        vertical-align: middle;\n",
       "    }\n",
       "\n",
       "    .dataframe tbody tr th {\n",
       "        vertical-align: top;\n",
       "    }\n",
       "\n",
       "    .dataframe thead th {\n",
       "        text-align: right;\n",
       "    }\n",
       "</style>\n",
       "<table border=\"1\" class=\"dataframe\">\n",
       "  <thead>\n",
       "    <tr style=\"text-align: right;\">\n",
       "      <th></th>\n",
       "      <th>PassengerId</th>\n",
       "      <th>Survived</th>\n",
       "      <th>Pclass</th>\n",
       "      <th>Name</th>\n",
       "      <th>Sex</th>\n",
       "      <th>Age</th>\n",
       "      <th>SibSp</th>\n",
       "      <th>Parch</th>\n",
       "      <th>Ticket</th>\n",
       "      <th>Fare</th>\n",
       "      <th>Cabin</th>\n",
       "      <th>Embarked</th>\n",
       "    </tr>\n",
       "  </thead>\n",
       "  <tbody>\n",
       "    <tr>\n",
       "      <th>0</th>\n",
       "      <td>1</td>\n",
       "      <td>0</td>\n",
       "      <td>3</td>\n",
       "      <td>Braund, Mr. Owen Harris</td>\n",
       "      <td>male</td>\n",
       "      <td>22.0</td>\n",
       "      <td>1</td>\n",
       "      <td>0</td>\n",
       "      <td>A/5 21171</td>\n",
       "      <td>7.2500</td>\n",
       "      <td>NaN</td>\n",
       "      <td>S</td>\n",
       "    </tr>\n",
       "    <tr>\n",
       "      <th>1</th>\n",
       "      <td>2</td>\n",
       "      <td>1</td>\n",
       "      <td>1</td>\n",
       "      <td>Cumings, Mrs. John Bradley (Florence Briggs Th...</td>\n",
       "      <td>female</td>\n",
       "      <td>38.0</td>\n",
       "      <td>1</td>\n",
       "      <td>0</td>\n",
       "      <td>PC 17599</td>\n",
       "      <td>71.2833</td>\n",
       "      <td>C85</td>\n",
       "      <td>C</td>\n",
       "    </tr>\n",
       "    <tr>\n",
       "      <th>2</th>\n",
       "      <td>3</td>\n",
       "      <td>1</td>\n",
       "      <td>3</td>\n",
       "      <td>Heikkinen, Miss. Laina</td>\n",
       "      <td>female</td>\n",
       "      <td>26.0</td>\n",
       "      <td>0</td>\n",
       "      <td>0</td>\n",
       "      <td>STON/O2. 3101282</td>\n",
       "      <td>7.9250</td>\n",
       "      <td>NaN</td>\n",
       "      <td>S</td>\n",
       "    </tr>\n",
       "    <tr>\n",
       "      <th>3</th>\n",
       "      <td>4</td>\n",
       "      <td>1</td>\n",
       "      <td>1</td>\n",
       "      <td>Futrelle, Mrs. Jacques Heath (Lily May Peel)</td>\n",
       "      <td>female</td>\n",
       "      <td>35.0</td>\n",
       "      <td>1</td>\n",
       "      <td>0</td>\n",
       "      <td>113803</td>\n",
       "      <td>53.1000</td>\n",
       "      <td>C123</td>\n",
       "      <td>S</td>\n",
       "    </tr>\n",
       "    <tr>\n",
       "      <th>4</th>\n",
       "      <td>5</td>\n",
       "      <td>0</td>\n",
       "      <td>3</td>\n",
       "      <td>Allen, Mr. William Henry</td>\n",
       "      <td>male</td>\n",
       "      <td>35.0</td>\n",
       "      <td>0</td>\n",
       "      <td>0</td>\n",
       "      <td>373450</td>\n",
       "      <td>8.0500</td>\n",
       "      <td>NaN</td>\n",
       "      <td>S</td>\n",
       "    </tr>\n",
       "  </tbody>\n",
       "</table>\n",
       "</div>"
      ],
      "text/plain": [
       "   PassengerId  Survived  Pclass  \\\n",
       "0            1         0       3   \n",
       "1            2         1       1   \n",
       "2            3         1       3   \n",
       "3            4         1       1   \n",
       "4            5         0       3   \n",
       "\n",
       "                                                Name     Sex   Age  SibSp  \\\n",
       "0                            Braund, Mr. Owen Harris    male  22.0      1   \n",
       "1  Cumings, Mrs. John Bradley (Florence Briggs Th...  female  38.0      1   \n",
       "2                             Heikkinen, Miss. Laina  female  26.0      0   \n",
       "3       Futrelle, Mrs. Jacques Heath (Lily May Peel)  female  35.0      1   \n",
       "4                           Allen, Mr. William Henry    male  35.0      0   \n",
       "\n",
       "   Parch            Ticket     Fare Cabin Embarked  \n",
       "0      0         A/5 21171   7.2500   NaN        S  \n",
       "1      0          PC 17599  71.2833   C85        C  \n",
       "2      0  STON/O2. 3101282   7.9250   NaN        S  \n",
       "3      0            113803  53.1000  C123        S  \n",
       "4      0            373450   8.0500   NaN        S  "
      ]
     },
     "execution_count": 2,
     "metadata": {},
     "output_type": "execute_result"
    }
   ],
   "source": [
    "train = pd.read_csv('train.csv')\n",
    "train.head()"
   ]
  },
  {
   "cell_type": "code",
   "execution_count": 3,
   "id": "77d590a5",
   "metadata": {},
   "outputs": [
    {
     "data": {
      "text/html": [
       "<div>\n",
       "<style scoped>\n",
       "    .dataframe tbody tr th:only-of-type {\n",
       "        vertical-align: middle;\n",
       "    }\n",
       "\n",
       "    .dataframe tbody tr th {\n",
       "        vertical-align: top;\n",
       "    }\n",
       "\n",
       "    .dataframe thead th {\n",
       "        text-align: right;\n",
       "    }\n",
       "</style>\n",
       "<table border=\"1\" class=\"dataframe\">\n",
       "  <thead>\n",
       "    <tr style=\"text-align: right;\">\n",
       "      <th></th>\n",
       "      <th>PassengerId</th>\n",
       "      <th>Pclass</th>\n",
       "      <th>Name</th>\n",
       "      <th>Sex</th>\n",
       "      <th>Age</th>\n",
       "      <th>SibSp</th>\n",
       "      <th>Parch</th>\n",
       "      <th>Ticket</th>\n",
       "      <th>Fare</th>\n",
       "      <th>Cabin</th>\n",
       "      <th>Embarked</th>\n",
       "    </tr>\n",
       "  </thead>\n",
       "  <tbody>\n",
       "    <tr>\n",
       "      <th>0</th>\n",
       "      <td>892</td>\n",
       "      <td>3</td>\n",
       "      <td>Kelly, Mr. James</td>\n",
       "      <td>male</td>\n",
       "      <td>34.5</td>\n",
       "      <td>0</td>\n",
       "      <td>0</td>\n",
       "      <td>330911</td>\n",
       "      <td>7.8292</td>\n",
       "      <td>NaN</td>\n",
       "      <td>Q</td>\n",
       "    </tr>\n",
       "    <tr>\n",
       "      <th>1</th>\n",
       "      <td>893</td>\n",
       "      <td>3</td>\n",
       "      <td>Wilkes, Mrs. James (Ellen Needs)</td>\n",
       "      <td>female</td>\n",
       "      <td>47.0</td>\n",
       "      <td>1</td>\n",
       "      <td>0</td>\n",
       "      <td>363272</td>\n",
       "      <td>7.0000</td>\n",
       "      <td>NaN</td>\n",
       "      <td>S</td>\n",
       "    </tr>\n",
       "    <tr>\n",
       "      <th>2</th>\n",
       "      <td>894</td>\n",
       "      <td>2</td>\n",
       "      <td>Myles, Mr. Thomas Francis</td>\n",
       "      <td>male</td>\n",
       "      <td>62.0</td>\n",
       "      <td>0</td>\n",
       "      <td>0</td>\n",
       "      <td>240276</td>\n",
       "      <td>9.6875</td>\n",
       "      <td>NaN</td>\n",
       "      <td>Q</td>\n",
       "    </tr>\n",
       "    <tr>\n",
       "      <th>3</th>\n",
       "      <td>895</td>\n",
       "      <td>3</td>\n",
       "      <td>Wirz, Mr. Albert</td>\n",
       "      <td>male</td>\n",
       "      <td>27.0</td>\n",
       "      <td>0</td>\n",
       "      <td>0</td>\n",
       "      <td>315154</td>\n",
       "      <td>8.6625</td>\n",
       "      <td>NaN</td>\n",
       "      <td>S</td>\n",
       "    </tr>\n",
       "    <tr>\n",
       "      <th>4</th>\n",
       "      <td>896</td>\n",
       "      <td>3</td>\n",
       "      <td>Hirvonen, Mrs. Alexander (Helga E Lindqvist)</td>\n",
       "      <td>female</td>\n",
       "      <td>22.0</td>\n",
       "      <td>1</td>\n",
       "      <td>1</td>\n",
       "      <td>3101298</td>\n",
       "      <td>12.2875</td>\n",
       "      <td>NaN</td>\n",
       "      <td>S</td>\n",
       "    </tr>\n",
       "  </tbody>\n",
       "</table>\n",
       "</div>"
      ],
      "text/plain": [
       "   PassengerId  Pclass                                          Name     Sex  \\\n",
       "0          892       3                              Kelly, Mr. James    male   \n",
       "1          893       3              Wilkes, Mrs. James (Ellen Needs)  female   \n",
       "2          894       2                     Myles, Mr. Thomas Francis    male   \n",
       "3          895       3                              Wirz, Mr. Albert    male   \n",
       "4          896       3  Hirvonen, Mrs. Alexander (Helga E Lindqvist)  female   \n",
       "\n",
       "    Age  SibSp  Parch   Ticket     Fare Cabin Embarked  \n",
       "0  34.5      0      0   330911   7.8292   NaN        Q  \n",
       "1  47.0      1      0   363272   7.0000   NaN        S  \n",
       "2  62.0      0      0   240276   9.6875   NaN        Q  \n",
       "3  27.0      0      0   315154   8.6625   NaN        S  \n",
       "4  22.0      1      1  3101298  12.2875   NaN        S  "
      ]
     },
     "execution_count": 3,
     "metadata": {},
     "output_type": "execute_result"
    }
   ],
   "source": [
    "test = pd.read_csv('test.csv')\n",
    "test.head()"
   ]
  },
  {
   "cell_type": "markdown",
   "id": "de6f6284",
   "metadata": {},
   "source": [
    "\n",
    "**<center>Data Dictionary</center>**\n",
    "\n",
    "\n",
    "| Variable\t| Definition\t| Key |\n",
    "|-----------|---------------|-----|\n",
    "|survival\t| Survival\t| 0 = No, 1 = Yes |\n",
    "|pclass\t| Ticket class\t| 1 = 1st, 2 = 2nd, 3 = 3rd |\n",
    "|sex\t| Sex\t| |\n",
    "|Age\t| Age in years\t| |\n",
    "|sibsp\t| # of siblings / spouses aboard the Titanic\t| |\n",
    "|parch\t| # of parents / children aboard the Titanic\t| |\n",
    "|ticket\t|Ticket number\t| |\n",
    "|fare\t| Passenger fare\t| |\n",
    "|cabin\t| Cabin number\t| |\n",
    "|embarked\t| Port of Embarkation\t| C = Cherbourg, Q = Queenstown, S = Southampton | |"
   ]
  },
  {
   "cell_type": "code",
   "execution_count": 4,
   "id": "1a40f39a",
   "metadata": {
    "scrolled": true
   },
   "outputs": [
    {
     "name": "stdout",
     "output_type": "stream",
     "text": [
      "<class 'pandas.core.frame.DataFrame'>\n",
      "RangeIndex: 891 entries, 0 to 890\n",
      "Data columns (total 12 columns):\n",
      " #   Column       Non-Null Count  Dtype  \n",
      "---  ------       --------------  -----  \n",
      " 0   PassengerId  891 non-null    int64  \n",
      " 1   Survived     891 non-null    int64  \n",
      " 2   Pclass       891 non-null    int64  \n",
      " 3   Name         891 non-null    object \n",
      " 4   Sex          891 non-null    object \n",
      " 5   Age          714 non-null    float64\n",
      " 6   SibSp        891 non-null    int64  \n",
      " 7   Parch        891 non-null    int64  \n",
      " 8   Ticket       891 non-null    object \n",
      " 9   Fare         891 non-null    float64\n",
      " 10  Cabin        204 non-null    object \n",
      " 11  Embarked     889 non-null    object \n",
      "dtypes: float64(2), int64(5), object(5)\n",
      "memory usage: 83.7+ KB\n"
     ]
    }
   ],
   "source": [
    "train.info()"
   ]
  },
  {
   "cell_type": "code",
   "execution_count": 5,
   "id": "e273dbf4",
   "metadata": {},
   "outputs": [
    {
     "name": "stdout",
     "output_type": "stream",
     "text": [
      "missing value in Age is 19.87 %\n",
      "missing value in Cabin is 77.10 %\n",
      "missing value in Embarked is 0.22 %\n"
     ]
    }
   ],
   "source": [
    "for i in train[list(train)]:\n",
    "    if train[i].isna().sum() / len(train) > 0:\n",
    "        print('missing value in {} is {:,.2f} %'.format(i, (train[i].isna().sum() / len(train))*100))\n",
    "    "
   ]
  },
  {
   "cell_type": "code",
   "execution_count": 6,
   "id": "a521ee97",
   "metadata": {},
   "outputs": [],
   "source": [
    "train = train.dropna(subset=['Embarked'])"
   ]
  },
  {
   "cell_type": "code",
   "execution_count": 7,
   "id": "15706b19",
   "metadata": {},
   "outputs": [],
   "source": [
    "# as the PassengerId is just ID we can get rid of this column in train\n",
    "# drop Cabin column as well because we have 77% of missing data\n",
    "train = train.drop(columns=['PassengerId','Cabin'], axis=1)\n",
    "test = test.drop(columns=['PassengerId','Cabin'], axis=1)\n"
   ]
  },
  {
   "cell_type": "code",
   "execution_count": 8,
   "id": "d600aee1",
   "metadata": {},
   "outputs": [
    {
     "data": {
      "text/html": [
       "<div>\n",
       "<style scoped>\n",
       "    .dataframe tbody tr th:only-of-type {\n",
       "        vertical-align: middle;\n",
       "    }\n",
       "\n",
       "    .dataframe tbody tr th {\n",
       "        vertical-align: top;\n",
       "    }\n",
       "\n",
       "    .dataframe thead th {\n",
       "        text-align: right;\n",
       "    }\n",
       "</style>\n",
       "<table border=\"1\" class=\"dataframe\">\n",
       "  <thead>\n",
       "    <tr style=\"text-align: right;\">\n",
       "      <th></th>\n",
       "      <th>Survived</th>\n",
       "      <th>Pclass</th>\n",
       "      <th>Age</th>\n",
       "      <th>SibSp</th>\n",
       "      <th>Parch</th>\n",
       "      <th>Fare</th>\n",
       "    </tr>\n",
       "  </thead>\n",
       "  <tbody>\n",
       "    <tr>\n",
       "      <th>count</th>\n",
       "      <td>889.000000</td>\n",
       "      <td>889.000000</td>\n",
       "      <td>712.000000</td>\n",
       "      <td>889.000000</td>\n",
       "      <td>889.000000</td>\n",
       "      <td>889.000000</td>\n",
       "    </tr>\n",
       "    <tr>\n",
       "      <th>mean</th>\n",
       "      <td>0.382452</td>\n",
       "      <td>2.311586</td>\n",
       "      <td>29.642093</td>\n",
       "      <td>0.524184</td>\n",
       "      <td>0.382452</td>\n",
       "      <td>32.096681</td>\n",
       "    </tr>\n",
       "    <tr>\n",
       "      <th>std</th>\n",
       "      <td>0.486260</td>\n",
       "      <td>0.834700</td>\n",
       "      <td>14.492933</td>\n",
       "      <td>1.103705</td>\n",
       "      <td>0.806761</td>\n",
       "      <td>49.697504</td>\n",
       "    </tr>\n",
       "    <tr>\n",
       "      <th>min</th>\n",
       "      <td>0.000000</td>\n",
       "      <td>1.000000</td>\n",
       "      <td>0.420000</td>\n",
       "      <td>0.000000</td>\n",
       "      <td>0.000000</td>\n",
       "      <td>0.000000</td>\n",
       "    </tr>\n",
       "    <tr>\n",
       "      <th>25%</th>\n",
       "      <td>0.000000</td>\n",
       "      <td>2.000000</td>\n",
       "      <td>20.000000</td>\n",
       "      <td>0.000000</td>\n",
       "      <td>0.000000</td>\n",
       "      <td>7.895800</td>\n",
       "    </tr>\n",
       "    <tr>\n",
       "      <th>50%</th>\n",
       "      <td>0.000000</td>\n",
       "      <td>3.000000</td>\n",
       "      <td>28.000000</td>\n",
       "      <td>0.000000</td>\n",
       "      <td>0.000000</td>\n",
       "      <td>14.454200</td>\n",
       "    </tr>\n",
       "    <tr>\n",
       "      <th>75%</th>\n",
       "      <td>1.000000</td>\n",
       "      <td>3.000000</td>\n",
       "      <td>38.000000</td>\n",
       "      <td>1.000000</td>\n",
       "      <td>0.000000</td>\n",
       "      <td>31.000000</td>\n",
       "    </tr>\n",
       "    <tr>\n",
       "      <th>max</th>\n",
       "      <td>1.000000</td>\n",
       "      <td>3.000000</td>\n",
       "      <td>80.000000</td>\n",
       "      <td>8.000000</td>\n",
       "      <td>6.000000</td>\n",
       "      <td>512.329200</td>\n",
       "    </tr>\n",
       "  </tbody>\n",
       "</table>\n",
       "</div>"
      ],
      "text/plain": [
       "         Survived      Pclass         Age       SibSp       Parch        Fare\n",
       "count  889.000000  889.000000  712.000000  889.000000  889.000000  889.000000\n",
       "mean     0.382452    2.311586   29.642093    0.524184    0.382452   32.096681\n",
       "std      0.486260    0.834700   14.492933    1.103705    0.806761   49.697504\n",
       "min      0.000000    1.000000    0.420000    0.000000    0.000000    0.000000\n",
       "25%      0.000000    2.000000   20.000000    0.000000    0.000000    7.895800\n",
       "50%      0.000000    3.000000   28.000000    0.000000    0.000000   14.454200\n",
       "75%      1.000000    3.000000   38.000000    1.000000    0.000000   31.000000\n",
       "max      1.000000    3.000000   80.000000    8.000000    6.000000  512.329200"
      ]
     },
     "execution_count": 8,
     "metadata": {},
     "output_type": "execute_result"
    }
   ],
   "source": [
    "train.describe()"
   ]
  },
  {
   "cell_type": "markdown",
   "id": "31f3b9f4",
   "metadata": {},
   "source": [
    "We have:\n",
    "\n",
    "1) 38% of survivors;\n",
    "\n",
    "2) 75% of passengers younger than 38;\n",
    "\n",
    "3) 75% of passengers with fare less than 31.\n",
    "\n"
   ]
  },
  {
   "cell_type": "markdown",
   "id": "7db56382",
   "metadata": {},
   "source": [
    "## Feature Analysis"
   ]
  },
  {
   "cell_type": "code",
   "execution_count": 9,
   "id": "d2e56115",
   "metadata": {},
   "outputs": [],
   "source": [
    "#make a funktion to describe all the needed information\n",
    "def analysis(df,feature):\n",
    "    sns.countplot(x=feature, hue='Survived', data = train)\n",
    "    return plt.show(), print('% of survivors in'.format(feature), train.groupby(by=feature).mean()['Survived'].sort_values(ascending=False))"
   ]
  },
  {
   "cell_type": "markdown",
   "id": "a3c8e2ce",
   "metadata": {},
   "source": [
    "### Pclass"
   ]
  },
  {
   "cell_type": "markdown",
   "id": "54bae4a6",
   "metadata": {},
   "source": [
    "Check how many survivors we have in each class"
   ]
  },
  {
   "cell_type": "code",
   "execution_count": 10,
   "id": "6745768b",
   "metadata": {},
   "outputs": [
    {
     "data": {
      "image/png": "[encoded data removed]",
      "text/plain": [
       "<Figure size 432x288 with 1 Axes>"
      ]
     },
     "metadata": {
      "needs_background": "light"
     },
     "output_type": "display_data"
    },
    {
     "name": "stdout",
     "output_type": "stream",
     "text": [
      "% of survivors in Pclass\n",
      "1    0.626168\n",
      "2    0.472826\n",
      "3    0.242363\n",
      "Name: Survived, dtype: float64\n"
     ]
    },
    {
     "data": {
      "text/plain": [
       "(None, None)"
      ]
     },
     "execution_count": 10,
     "metadata": {},
     "output_type": "execute_result"
    }
   ],
   "source": [
    "analysis(train,'Pclass')"
   ]
  },
  {
   "cell_type": "markdown",
   "id": "b39c9808",
   "metadata": {},
   "source": [
    "The higher percent of survivors is in the 1st Class. Nothing unpredictable."
   ]
  },
  {
   "cell_type": "markdown",
   "id": "1b0965ca",
   "metadata": {},
   "source": [
    "Check how is Class correlated with embarkation port."
   ]
  },
  {
   "cell_type": "code",
   "execution_count": 11,
   "id": "b5993517",
   "metadata": {},
   "outputs": [
    {
     "data": {
      "image/png": "[encoded data removed]",
      "text/plain": [
       "<Figure size 432x288 with 1 Axes>"
      ]
     },
     "metadata": {
      "needs_background": "light"
     },
     "output_type": "display_data"
    }
   ],
   "source": [
    "sns.countplot(x='Embarked', hue='Pclass', data = train);"
   ]
  },
  {
   "cell_type": "markdown",
   "id": "fae42a63",
   "metadata": {},
   "source": [
    "We see that most of the people from 3rd class embarked in Queenstown and Southampton. It could affect the survival %."
   ]
  },
  {
   "cell_type": "markdown",
   "id": "816e3f38",
   "metadata": {},
   "source": [
    "Check the age distribution."
   ]
  },
  {
   "cell_type": "code",
   "execution_count": 12,
   "id": "71523f19",
   "metadata": {},
   "outputs": [
    {
     "data": {
      "image/png": "[encoded data removed]",
      "text/plain": [
       "<Figure size 432x288 with 1 Axes>"
      ]
     },
     "metadata": {
      "needs_background": "light"
     },
     "output_type": "display_data"
    }
   ],
   "source": [
    "plt.hist(train[train.Pclass==1]['Age'],color='b',alpha=0.5, label='1st class', bins=20)\n",
    "plt.hist(train[train.Pclass==2]['Age'],color='r',alpha=0.5, label='2nd class',bins=20)\n",
    "plt.hist(train[train.Pclass==3]['Age'],color='y',alpha=0.5, label='3rd class',bins=20)\n",
    "plt.title('Age distribution')\n",
    "plt.xlabel('Age')\n",
    "plt.grid(True)\n",
    "plt.legend();"
   ]
  },
  {
   "cell_type": "markdown",
   "id": "e37ad198",
   "metadata": {},
   "source": [
    "Check the fare distribution."
   ]
  },
  {
   "cell_type": "code",
   "execution_count": 13,
   "id": "37543fb1",
   "metadata": {},
   "outputs": [
    {
     "data": {
      "image/png": "[encoded data removed]",
      "text/plain": [
       "<Figure size 432x288 with 1 Axes>"
      ]
     },
     "metadata": {
      "needs_background": "light"
     },
     "output_type": "display_data"
    }
   ],
   "source": [
    "plt.hist(train[train.Pclass==1]['Fare'],color='b',alpha=0.5, label='1st class')\n",
    "plt.hist(train[train.Pclass==2]['Fare'],color='r',alpha=0.5, label='2nd class')\n",
    "plt.hist(train[train.Pclass==3]['Fare'],color='y',alpha=0.5, label='3rd class')\n",
    "plt.title('Fare distribution')\n",
    "plt.xlabel('Fare')\n",
    "plt.grid(True)\n",
    "plt.legend();"
   ]
  },
  {
   "cell_type": "markdown",
   "id": "d1119464",
   "metadata": {},
   "source": [
    "People from 1st class are older. As we see from `fare` histogram, they are reacher and can afford tickets with higher class."
   ]
  },
  {
   "cell_type": "markdown",
   "id": "ffdcfbab",
   "metadata": {},
   "source": [
    "### Name"
   ]
  },
  {
   "cell_type": "code",
   "execution_count": 14,
   "id": "a38f8a32",
   "metadata": {},
   "outputs": [
    {
     "data": {
      "text/plain": [
       "0                              Braund, Mr. Owen Harris\n",
       "1    Cumings, Mrs. John Bradley (Florence Briggs Th...\n",
       "2                               Heikkinen, Miss. Laina\n",
       "3         Futrelle, Mrs. Jacques Heath (Lily May Peel)\n",
       "4                             Allen, Mr. William Henry\n",
       "Name: Name, dtype: object"
      ]
     },
     "execution_count": 14,
     "metadata": {},
     "output_type": "execute_result"
    }
   ],
   "source": [
    "train['Name'].head()"
   ]
  },
  {
   "cell_type": "markdown",
   "id": "381f6f3c",
   "metadata": {},
   "source": [
    "We can take the title out of the people names in order to make a separate feature."
   ]
  },
  {
   "cell_type": "code",
   "execution_count": 15,
   "id": "edc9da38",
   "metadata": {},
   "outputs": [
    {
     "data": {
      "text/plain": [
       "Mr              517\n",
       "Miss            181\n",
       "Mrs             124\n",
       "Master           40\n",
       "Dr                7\n",
       "Rev               6\n",
       "Major             2\n",
       "Col               2\n",
       "Mlle              2\n",
       "Lady              1\n",
       "Don               1\n",
       "Sir               1\n",
       "Ms                1\n",
       "the Countess      1\n",
       "Capt              1\n",
       "Jonkheer          1\n",
       "Mme               1\n",
       "Name: Title, dtype: int64"
      ]
     },
     "execution_count": 15,
     "metadata": {},
     "output_type": "execute_result"
    }
   ],
   "source": [
    "train['Title'] = train['Name'].str.split(', ', expand=True)[1].str.split('.', expand=True)[0]\n",
    "train['Title'].value_counts()"
   ]
  },
  {
   "cell_type": "code",
   "execution_count": 16,
   "id": "19a21991",
   "metadata": {},
   "outputs": [],
   "source": [
    "test['Title'] = test['Name'].str.split(', ', expand=True)[1].str.split('.', expand=True)[0]"
   ]
  },
  {
   "cell_type": "code",
   "execution_count": 17,
   "id": "0924b2d7",
   "metadata": {},
   "outputs": [],
   "source": [
    "#the column Name is no longer needed as surely there is no correlation between survival and passenger names\n",
    "train = train.drop(columns='Name', axis=1)\n",
    "test = test.drop(columns='Name', axis=1)"
   ]
  },
  {
   "cell_type": "markdown",
   "id": "d2c945b3",
   "metadata": {},
   "source": [
    "Check the relation between `Title` and survival."
   ]
  },
  {
   "cell_type": "code",
   "execution_count": 18,
   "id": "c2200d19",
   "metadata": {},
   "outputs": [
    {
     "data": {
      "text/plain": [
       "Title\n",
       "Miss            126\n",
       "Mrs              98\n",
       "Mr               81\n",
       "Master           23\n",
       "Dr                3\n",
       "Mlle              2\n",
       "Sir               1\n",
       "Ms                1\n",
       "Mme               1\n",
       "the Countess      1\n",
       "Col               1\n",
       "Major             1\n",
       "Lady              1\n",
       "Jonkheer          0\n",
       "Rev               0\n",
       "Don               0\n",
       "Capt              0\n",
       "Name: Survived, dtype: int64"
      ]
     },
     "execution_count": 18,
     "metadata": {},
     "output_type": "execute_result"
    }
   ],
   "source": [
    "train.groupby(by='Title').sum()['Survived'].sort_values(ascending=False)"
   ]
  },
  {
   "cell_type": "markdown",
   "id": "862877ee",
   "metadata": {},
   "source": [
    "Miss, Mrs and Mr have higher survival rate."
   ]
  },
  {
   "cell_type": "markdown",
   "id": "cfc62f35",
   "metadata": {},
   "source": [
    "Check the age of people with unique Title. It could be useful later in order to fill in N/A values in `Age`."
   ]
  },
  {
   "cell_type": "code",
   "execution_count": 19,
   "id": "e8d478e6",
   "metadata": {},
   "outputs": [
    {
     "data": {
      "text/plain": [
       "Title\n",
       "Capt            70.000000\n",
       "Col             58.000000\n",
       "Sir             49.000000\n",
       "Major           48.500000\n",
       "Lady            48.000000\n",
       "Rev             43.166667\n",
       "Dr              42.000000\n",
       "Don             40.000000\n",
       "Jonkheer        38.000000\n",
       "Mrs             35.654206\n",
       "the Countess    33.000000\n",
       "Mr              32.368090\n",
       "Ms              28.000000\n",
       "Mme             24.000000\n",
       "Mlle            24.000000\n",
       "Miss            21.662069\n",
       "Master           4.574167\n",
       "Name: Age, dtype: float64"
      ]
     },
     "execution_count": 19,
     "metadata": {},
     "output_type": "execute_result"
    }
   ],
   "source": [
    "train.groupby(by='Title').mean()['Age'].sort_values(ascending=False)"
   ]
  },
  {
   "cell_type": "markdown",
   "id": "4673d3fc",
   "metadata": {},
   "source": [
    "### Sex"
   ]
  },
  {
   "cell_type": "code",
   "execution_count": 20,
   "id": "e8c05b2e",
   "metadata": {},
   "outputs": [
    {
     "data": {
      "image/png": "[encoded data removed]",
      "text/plain": [
       "<Figure size 432x288 with 1 Axes>"
      ]
     },
     "metadata": {
      "needs_background": "light"
     },
     "output_type": "display_data"
    },
    {
     "name": "stdout",
     "output_type": "stream",
     "text": [
      "% of survivors in Sex\n",
      "female    0.740385\n",
      "male      0.188908\n",
      "Name: Survived, dtype: float64\n"
     ]
    },
    {
     "data": {
      "text/plain": [
       "(None, None)"
      ]
     },
     "execution_count": 20,
     "metadata": {},
     "output_type": "execute_result"
    }
   ],
   "source": [
    "analysis(train,'Sex')"
   ]
  },
  {
   "cell_type": "markdown",
   "id": "188d17af",
   "metadata": {},
   "source": [
    "Higher % of female has survived."
   ]
  },
  {
   "cell_type": "markdown",
   "id": "0ee1d3ee",
   "metadata": {},
   "source": [
    "Transform `Sex` into 0 and 1."
   ]
  },
  {
   "cell_type": "code",
   "execution_count": 21,
   "id": "41849a23",
   "metadata": {},
   "outputs": [],
   "source": [
    "train['Sex'] = train['Sex'].astype('category')\n",
    "train['Sex'] = train['Sex'].cat.codes"
   ]
  },
  {
   "cell_type": "code",
   "execution_count": 22,
   "id": "0a4ff3f3",
   "metadata": {},
   "outputs": [],
   "source": [
    "test['Sex'] = test['Sex'].astype('category')\n",
    "test['Sex'] = test['Sex'].cat.codes"
   ]
  },
  {
   "cell_type": "markdown",
   "id": "13697484",
   "metadata": {},
   "source": [
    "### Age"
   ]
  },
  {
   "cell_type": "markdown",
   "id": "a95d34f8",
   "metadata": {},
   "source": [
    "Check the distribution of age and let's try to find the way to fill in missing values."
   ]
  },
  {
   "cell_type": "code",
   "execution_count": 23,
   "id": "428932a7",
   "metadata": {},
   "outputs": [
    {
     "data": {
      "text/plain": [
       "24.00    30\n",
       "22.00    27\n",
       "18.00    26\n",
       "28.00    25\n",
       "19.00    25\n",
       "         ..\n",
       "55.50     1\n",
       "74.00     1\n",
       "0.92      1\n",
       "70.50     1\n",
       "12.00     1\n",
       "Name: Age, Length: 88, dtype: int64"
      ]
     },
     "execution_count": 23,
     "metadata": {},
     "output_type": "execute_result"
    }
   ],
   "source": [
    "train['Age'].value_counts()"
   ]
  },
  {
   "cell_type": "markdown",
   "id": "2081debd",
   "metadata": {},
   "source": [
    "Check the number of missing values with relation of Title."
   ]
  },
  {
   "cell_type": "code",
   "execution_count": 24,
   "id": "33c3a894",
   "metadata": {},
   "outputs": [
    {
     "data": {
      "text/plain": [
       "Mr        119\n",
       "Miss       36\n",
       "Mrs        17\n",
       "Master      4\n",
       "Dr          1\n",
       "Name: Title, dtype: int64"
      ]
     },
     "execution_count": 24,
     "metadata": {},
     "output_type": "execute_result"
    }
   ],
   "source": [
    "train[train['Age'].isna()]['Title'].value_counts()"
   ]
  },
  {
   "cell_type": "code",
   "execution_count": 25,
   "id": "c2b38a80",
   "metadata": {},
   "outputs": [
    {
     "data": {
      "image/png": "[encoded data removed]",
      "text/plain": [
       "<Figure size 432x288 with 1 Axes>"
      ]
     },
     "metadata": {
      "needs_background": "light"
     },
     "output_type": "display_data"
    }
   ],
   "source": [
    "train[train['Title'] == 'Mr']['Age'].hist();"
   ]
  },
  {
   "cell_type": "markdown",
   "id": "3fc7cd95",
   "metadata": {},
   "source": [
    "We can assume that `Age` is higly correlated with `Title`. Let's fill in the missing values with mean value for each `Title`."
   ]
  },
  {
   "cell_type": "code",
   "execution_count": 26,
   "id": "02feff3a",
   "metadata": {},
   "outputs": [
    {
     "data": {
      "text/plain": [
       "Mr        119\n",
       "Miss       36\n",
       "Mrs        17\n",
       "Master      4\n",
       "Dr          1\n",
       "Name: Title, dtype: int64"
      ]
     },
     "execution_count": 26,
     "metadata": {},
     "output_type": "execute_result"
    }
   ],
   "source": [
    "train[train['Age'].isna()]['Title'].value_counts()"
   ]
  },
  {
   "cell_type": "code",
   "execution_count": 27,
   "id": "7b9f08c1",
   "metadata": {},
   "outputs": [],
   "source": [
    "train['Age'] = train['Age'].fillna(train.groupby(['Pclass','Title',])['Age'].transform('median'))"
   ]
  },
  {
   "cell_type": "markdown",
   "id": "366ea409",
   "metadata": {},
   "source": [
    "Let's check the histogram for age distribution among passengers that have survived and passengers who haven't survived."
   ]
  },
  {
   "cell_type": "code",
   "execution_count": 28,
   "id": "d00a559c",
   "metadata": {},
   "outputs": [
    {
     "data": {
      "image/png": "[encoded data removed]",
      "text/plain": [
       "<Figure size 432x288 with 1 Axes>"
      ]
     },
     "metadata": {
      "needs_background": "light"
     },
     "output_type": "display_data"
    }
   ],
   "source": [
    "plt.hist(train[train.Survived==1]['Age'],color='b',alpha=0.5, label='Survived', bins=20)\n",
    "plt.hist(train[train.Survived==0]['Age'],color='r',alpha=0.5, label='Not Survived',bins=20)\n",
    "plt.title('Age distribution')\n",
    "plt.xlabel('Age')\n",
    "plt.grid(True)\n",
    "plt.legend();"
   ]
  },
  {
   "cell_type": "markdown",
   "id": "eea65ed3",
   "metadata": {},
   "source": [
    "We see that childs have priority in survival.The high value in age of 32 comes from the replacement of missing values with mean for each `Title`, we had a lot of missing age in Title `Mr`."
   ]
  },
  {
   "cell_type": "markdown",
   "id": "605d5914",
   "metadata": {},
   "source": [
    "### SibSp & Parch"
   ]
  },
  {
   "cell_type": "markdown",
   "id": "f0aea86a",
   "metadata": {},
   "source": [
    "Join 2 columns and make a column `family_size`."
   ]
  },
  {
   "cell_type": "code",
   "execution_count": 29,
   "id": "752f90e2",
   "metadata": {},
   "outputs": [],
   "source": [
    "train['family_size'] = train['SibSp'] + train['Parch']\n",
    "#drop columns that are not usefull anymore\n",
    "train.drop(columns=['SibSp','Parch'], inplace=True)"
   ]
  },
  {
   "cell_type": "code",
   "execution_count": 30,
   "id": "32f0f5b2",
   "metadata": {},
   "outputs": [],
   "source": [
    "test['family_size'] = test['SibSp'] + test['Parch']\n",
    "#drop columns that are not usefull anymore\n",
    "test.drop(columns=['SibSp','Parch'], inplace=True)"
   ]
  },
  {
   "cell_type": "markdown",
   "id": "58962b60",
   "metadata": {},
   "source": [
    "Let's check all the distributions of `family_size` among other main features."
   ]
  },
  {
   "cell_type": "code",
   "execution_count": 31,
   "id": "45b90b96",
   "metadata": {},
   "outputs": [
    {
     "data": {
      "image/png": "[encoded data removed]",
      "text/plain": [
       "<Figure size 1080x216 with 3 Axes>"
      ]
     },
     "metadata": {
      "needs_background": "light"
     },
     "output_type": "display_data"
    }
   ],
   "source": [
    "fig, ax = plt.subplots(nrows=1, ncols=3,figsize=(15,3))\n",
    "sns.countplot(x='family_size', hue='Survived', data = train, ax=ax[0])\n",
    "sns.countplot(x='family_size', hue='Sex', data = train, ax=ax[1])\n",
    "sns.countplot(x='family_size', hue='Pclass', data = train, ax=ax[2]);"
   ]
  },
  {
   "cell_type": "markdown",
   "id": "840c3032",
   "metadata": {},
   "source": [
    "We can see that families with size 1-3 have higher % of survivors. Most probably that in there male/female quantities are almost equal. But it could also be affected with `Pclass`."
   ]
  },
  {
   "cell_type": "markdown",
   "id": "ea606ffb",
   "metadata": {},
   "source": [
    "### Fare           "
   ]
  },
  {
   "cell_type": "markdown",
   "id": "8078c3f5",
   "metadata": {},
   "source": [
    "We have seen that `Fare` have some 0 values. Let's check it."
   ]
  },
  {
   "cell_type": "code",
   "execution_count": 32,
   "id": "fbd4fd34",
   "metadata": {},
   "outputs": [
    {
     "data": {
      "text/html": [
       "<div>\n",
       "<style scoped>\n",
       "    .dataframe tbody tr th:only-of-type {\n",
       "        vertical-align: middle;\n",
       "    }\n",
       "\n",
       "    .dataframe tbody tr th {\n",
       "        vertical-align: top;\n",
       "    }\n",
       "\n",
       "    .dataframe thead th {\n",
       "        text-align: right;\n",
       "    }\n",
       "</style>\n",
       "<table border=\"1\" class=\"dataframe\">\n",
       "  <thead>\n",
       "    <tr style=\"text-align: right;\">\n",
       "      <th></th>\n",
       "      <th>Survived</th>\n",
       "      <th>Pclass</th>\n",
       "      <th>Sex</th>\n",
       "      <th>Age</th>\n",
       "      <th>Ticket</th>\n",
       "      <th>Fare</th>\n",
       "      <th>Embarked</th>\n",
       "      <th>Title</th>\n",
       "      <th>family_size</th>\n",
       "    </tr>\n",
       "  </thead>\n",
       "  <tbody>\n",
       "    <tr>\n",
       "      <th>179</th>\n",
       "      <td>0</td>\n",
       "      <td>3</td>\n",
       "      <td>1</td>\n",
       "      <td>36.0</td>\n",
       "      <td>LINE</td>\n",
       "      <td>0.0</td>\n",
       "      <td>S</td>\n",
       "      <td>Mr</td>\n",
       "      <td>0</td>\n",
       "    </tr>\n",
       "    <tr>\n",
       "      <th>263</th>\n",
       "      <td>0</td>\n",
       "      <td>1</td>\n",
       "      <td>1</td>\n",
       "      <td>40.0</td>\n",
       "      <td>112059</td>\n",
       "      <td>0.0</td>\n",
       "      <td>S</td>\n",
       "      <td>Mr</td>\n",
       "      <td>0</td>\n",
       "    </tr>\n",
       "    <tr>\n",
       "      <th>271</th>\n",
       "      <td>1</td>\n",
       "      <td>3</td>\n",
       "      <td>1</td>\n",
       "      <td>25.0</td>\n",
       "      <td>LINE</td>\n",
       "      <td>0.0</td>\n",
       "      <td>S</td>\n",
       "      <td>Mr</td>\n",
       "      <td>0</td>\n",
       "    </tr>\n",
       "    <tr>\n",
       "      <th>277</th>\n",
       "      <td>0</td>\n",
       "      <td>2</td>\n",
       "      <td>1</td>\n",
       "      <td>31.0</td>\n",
       "      <td>239853</td>\n",
       "      <td>0.0</td>\n",
       "      <td>S</td>\n",
       "      <td>Mr</td>\n",
       "      <td>0</td>\n",
       "    </tr>\n",
       "    <tr>\n",
       "      <th>302</th>\n",
       "      <td>0</td>\n",
       "      <td>3</td>\n",
       "      <td>1</td>\n",
       "      <td>19.0</td>\n",
       "      <td>LINE</td>\n",
       "      <td>0.0</td>\n",
       "      <td>S</td>\n",
       "      <td>Mr</td>\n",
       "      <td>0</td>\n",
       "    </tr>\n",
       "  </tbody>\n",
       "</table>\n",
       "</div>"
      ],
      "text/plain": [
       "     Survived  Pclass  Sex   Age  Ticket  Fare Embarked Title  family_size\n",
       "179         0       3    1  36.0    LINE   0.0        S    Mr            0\n",
       "263         0       1    1  40.0  112059   0.0        S    Mr            0\n",
       "271         1       3    1  25.0    LINE   0.0        S    Mr            0\n",
       "277         0       2    1  31.0  239853   0.0        S    Mr            0\n",
       "302         0       3    1  19.0    LINE   0.0        S    Mr            0"
      ]
     },
     "execution_count": 32,
     "metadata": {},
     "output_type": "execute_result"
    }
   ],
   "source": [
    "train[train['Fare'] == 0].head()"
   ]
  },
  {
   "cell_type": "code",
   "execution_count": 33,
   "id": "a7a2429e",
   "metadata": {},
   "outputs": [
    {
     "data": {
      "text/plain": [
       "0.0    15\n",
       "Name: Fare, dtype: int64"
      ]
     },
     "execution_count": 33,
     "metadata": {},
     "output_type": "execute_result"
    }
   ],
   "source": [
    "train[train['Fare'] == 0]['Fare'].value_counts()"
   ]
  },
  {
   "cell_type": "code",
   "execution_count": 34,
   "id": "9816a04f",
   "metadata": {},
   "outputs": [
    {
     "data": {
      "text/plain": [
       "Pclass\n",
       "1    84.193516\n",
       "2    20.662183\n",
       "3    13.675550\n",
       "Name: Fare, dtype: float64"
      ]
     },
     "execution_count": 34,
     "metadata": {},
     "output_type": "execute_result"
    }
   ],
   "source": [
    "train.groupby('Pclass')['Fare'].mean()"
   ]
  },
  {
   "cell_type": "markdown",
   "id": "931e86f6",
   "metadata": {},
   "source": [
    "Let's replace these lines with mean value for each class."
   ]
  },
  {
   "cell_type": "code",
   "execution_count": 35,
   "id": "a3b6f66b",
   "metadata": {},
   "outputs": [],
   "source": [
    "train.loc[train['Fare'] == 0, 'Fare'] = \\\n",
    "    train.loc[train['Fare'] == 0, 'Pclass'].map(train.groupby('Pclass')['Fare'].mean())"
   ]
  },
  {
   "cell_type": "code",
   "execution_count": 36,
   "id": "fcc73f59",
   "metadata": {},
   "outputs": [
    {
     "data": {
      "image/png": "[encoded data removed]",
      "text/plain": [
       "<Figure size 432x288 with 1 Axes>"
      ]
     },
     "metadata": {
      "needs_background": "light"
     },
     "output_type": "display_data"
    }
   ],
   "source": [
    "train['Fare'].hist();"
   ]
  },
  {
   "cell_type": "code",
   "execution_count": 37,
   "id": "9eeb7e91",
   "metadata": {},
   "outputs": [],
   "source": [
    "#apply PowerTransofmer to make data more Gaussian-like\n",
    "to_gauss = ['Fare']\n",
    "scaler = PowerTransformer().fit(train[to_gauss])\n",
    "train[to_gauss] = scaler.transform(train[to_gauss])\n",
    "test[to_gauss] = scaler.transform(test[to_gauss])"
   ]
  },
  {
   "cell_type": "markdown",
   "id": "f5e464c7",
   "metadata": {},
   "source": [
    "Convert some columns to numerical and check the correlation between features."
   ]
  },
  {
   "cell_type": "code",
   "execution_count": 38,
   "id": "de5e6675",
   "metadata": {},
   "outputs": [],
   "source": [
    "train = pd.get_dummies(columns=['Embarked'], data=train, drop_first=True)\n",
    "encoder = OrdinalEncoder()\n",
    "cat_features = ['Title']\n",
    "train[cat_features] = encoder.fit_transform(train[cat_features])"
   ]
  },
  {
   "cell_type": "code",
   "execution_count": 39,
   "id": "989b3b6e",
   "metadata": {},
   "outputs": [],
   "source": [
    "test = pd.get_dummies(columns=['Embarked'], data=test, drop_first=True)\n",
    "encoder = OrdinalEncoder()\n",
    "cat_features = ['Title']\n",
    "test[cat_features] = encoder.fit_transform(test[cat_features])"
   ]
  },
  {
   "cell_type": "code",
   "execution_count": 40,
   "id": "50229dff",
   "metadata": {},
   "outputs": [
    {
     "name": "stdout",
     "output_type": "stream",
     "text": [
      "interval columns not set, guessing: ['Survived', 'Pclass', 'Sex', 'Age', 'Fare', 'Title', 'family_size', 'Embarked_Q', 'Embarked_S']\n"
     ]
    },
    {
     "data": {
      "image/png": "[encoded data removed]",
      "text/plain": [
       "<Figure size 720x576 with 2 Axes>"
      ]
     },
     "metadata": {
      "needs_background": "light"
     },
     "output_type": "display_data"
    }
   ],
   "source": [
    "fig = plt.figure(figsize = (10,8))\n",
    "sns.heatmap(train.phik_matrix(), annot=True);"
   ]
  },
  {
   "cell_type": "markdown",
   "id": "594cce00",
   "metadata": {},
   "source": [
    "We can drop columns `Embarked_Q` as it is not correlated with target and `Ticket` as this column is highly correlated with other features."
   ]
  },
  {
   "cell_type": "code",
   "execution_count": 41,
   "id": "21f25fe3",
   "metadata": {},
   "outputs": [],
   "source": [
    "train = train.drop(columns=['Embarked_Q','Ticket'], axis=1)\n",
    "test = test.drop(columns=['Embarked_Q','Ticket'], axis=1)"
   ]
  },
  {
   "cell_type": "markdown",
   "id": "a2966608",
   "metadata": {},
   "source": [
    "## Prepairing data for models"
   ]
  },
  {
   "cell_type": "markdown",
   "id": "e86db1c2",
   "metadata": {},
   "source": [
    "Check the test data"
   ]
  },
  {
   "cell_type": "code",
   "execution_count": 42,
   "id": "ca05ff42",
   "metadata": {},
   "outputs": [
    {
     "data": {
      "text/html": [
       "<div>\n",
       "<style scoped>\n",
       "    .dataframe tbody tr th:only-of-type {\n",
       "        vertical-align: middle;\n",
       "    }\n",
       "\n",
       "    .dataframe tbody tr th {\n",
       "        vertical-align: top;\n",
       "    }\n",
       "\n",
       "    .dataframe thead th {\n",
       "        text-align: right;\n",
       "    }\n",
       "</style>\n",
       "<table border=\"1\" class=\"dataframe\">\n",
       "  <thead>\n",
       "    <tr style=\"text-align: right;\">\n",
       "      <th></th>\n",
       "      <th>Pclass</th>\n",
       "      <th>Sex</th>\n",
       "      <th>Age</th>\n",
       "      <th>Fare</th>\n",
       "      <th>Title</th>\n",
       "      <th>family_size</th>\n",
       "      <th>Embarked_S</th>\n",
       "    </tr>\n",
       "  </thead>\n",
       "  <tbody>\n",
       "    <tr>\n",
       "      <th>0</th>\n",
       "      <td>3</td>\n",
       "      <td>1</td>\n",
       "      <td>34.5</td>\n",
       "      <td>-1.093298</td>\n",
       "      <td>5.0</td>\n",
       "      <td>0</td>\n",
       "      <td>0</td>\n",
       "    </tr>\n",
       "    <tr>\n",
       "      <th>1</th>\n",
       "      <td>3</td>\n",
       "      <td>0</td>\n",
       "      <td>47.0</td>\n",
       "      <td>-1.299217</td>\n",
       "      <td>6.0</td>\n",
       "      <td>1</td>\n",
       "      <td>1</td>\n",
       "    </tr>\n",
       "    <tr>\n",
       "      <th>2</th>\n",
       "      <td>2</td>\n",
       "      <td>1</td>\n",
       "      <td>62.0</td>\n",
       "      <td>-0.726218</td>\n",
       "      <td>5.0</td>\n",
       "      <td>0</td>\n",
       "      <td>0</td>\n",
       "    </tr>\n",
       "    <tr>\n",
       "      <th>3</th>\n",
       "      <td>3</td>\n",
       "      <td>1</td>\n",
       "      <td>27.0</td>\n",
       "      <td>-0.914947</td>\n",
       "      <td>5.0</td>\n",
       "      <td>0</td>\n",
       "      <td>1</td>\n",
       "    </tr>\n",
       "    <tr>\n",
       "      <th>4</th>\n",
       "      <td>3</td>\n",
       "      <td>0</td>\n",
       "      <td>22.0</td>\n",
       "      <td>-0.354106</td>\n",
       "      <td>6.0</td>\n",
       "      <td>2</td>\n",
       "      <td>1</td>\n",
       "    </tr>\n",
       "  </tbody>\n",
       "</table>\n",
       "</div>"
      ],
      "text/plain": [
       "   Pclass  Sex   Age      Fare  Title  family_size  Embarked_S\n",
       "0       3    1  34.5 -1.093298    5.0            0           0\n",
       "1       3    0  47.0 -1.299217    6.0            1           1\n",
       "2       2    1  62.0 -0.726218    5.0            0           0\n",
       "3       3    1  27.0 -0.914947    5.0            0           1\n",
       "4       3    0  22.0 -0.354106    6.0            2           1"
      ]
     },
     "execution_count": 42,
     "metadata": {},
     "output_type": "execute_result"
    }
   ],
   "source": [
    "test.head()"
   ]
  },
  {
   "cell_type": "code",
   "execution_count": 43,
   "id": "a5f4a201",
   "metadata": {},
   "outputs": [
    {
     "name": "stdout",
     "output_type": "stream",
     "text": [
      "<class 'pandas.core.frame.DataFrame'>\n",
      "RangeIndex: 418 entries, 0 to 417\n",
      "Data columns (total 7 columns):\n",
      " #   Column       Non-Null Count  Dtype  \n",
      "---  ------       --------------  -----  \n",
      " 0   Pclass       418 non-null    int64  \n",
      " 1   Sex          418 non-null    int8   \n",
      " 2   Age          332 non-null    float64\n",
      " 3   Fare         417 non-null    float64\n",
      " 4   Title        418 non-null    float64\n",
      " 5   family_size  418 non-null    int64  \n",
      " 6   Embarked_S   418 non-null    uint8  \n",
      "dtypes: float64(3), int64(2), int8(1), uint8(1)\n",
      "memory usage: 17.3 KB\n"
     ]
    }
   ],
   "source": [
    "test.info()"
   ]
  },
  {
   "cell_type": "markdown",
   "id": "e57362a7",
   "metadata": {},
   "source": [
    "Fill the missing values in the test dataset."
   ]
  },
  {
   "cell_type": "code",
   "execution_count": 44,
   "id": "e1539734",
   "metadata": {},
   "outputs": [],
   "source": [
    "test.loc[test['Age'].isna(), 'Age'] = \\\n",
    "    test.loc[test['Age'].isna(), 'Title'].map(test.groupby('Title')['Age'].mean())"
   ]
  },
  {
   "cell_type": "code",
   "execution_count": 45,
   "id": "689f6f80",
   "metadata": {},
   "outputs": [],
   "source": [
    "test.loc[test['Fare'].isna(), 'Fare'] = \\\n",
    "    test.loc[test['Fare'].isna(), 'Pclass'].map(test.groupby('Pclass')['Fare'].mean())"
   ]
  },
  {
   "cell_type": "code",
   "execution_count": 46,
   "id": "f601cc60",
   "metadata": {},
   "outputs": [
    {
     "data": {
      "text/plain": [
       "Pclass         0\n",
       "Sex            0\n",
       "Age            1\n",
       "Fare           0\n",
       "Title          0\n",
       "family_size    0\n",
       "Embarked_S     0\n",
       "dtype: int64"
      ]
     },
     "execution_count": 46,
     "metadata": {},
     "output_type": "execute_result"
    }
   ],
   "source": [
    "test.isna().sum()"
   ]
  },
  {
   "cell_type": "code",
   "execution_count": 47,
   "id": "d72f96b9",
   "metadata": {},
   "outputs": [],
   "source": [
    "test.loc[test['Age'].isna(), 'Age'] = \\\n",
    "    test.loc[test['Age'].isna(), 'Sex'].map(test.groupby('Sex')['Age'].mean())"
   ]
  },
  {
   "cell_type": "code",
   "execution_count": 48,
   "id": "ec78ab8b",
   "metadata": {},
   "outputs": [
    {
     "data": {
      "text/plain": [
       "Pclass         0\n",
       "Sex            0\n",
       "Age            0\n",
       "Fare           0\n",
       "Title          0\n",
       "family_size    0\n",
       "Embarked_S     0\n",
       "dtype: int64"
      ]
     },
     "execution_count": 48,
     "metadata": {},
     "output_type": "execute_result"
    }
   ],
   "source": [
    "test.isna().sum()"
   ]
  },
  {
   "cell_type": "markdown",
   "id": "374cf43e",
   "metadata": {},
   "source": [
    "Divide target and feature in train dataset"
   ]
  },
  {
   "cell_type": "code",
   "execution_count": 49,
   "id": "61af3dbc",
   "metadata": {},
   "outputs": [],
   "source": [
    "features = train.drop('Survived', axis=1)\n",
    "target = train['Survived']"
   ]
  },
  {
   "cell_type": "markdown",
   "id": "a3c3f66e",
   "metadata": {},
   "source": [
    "Let's make k-Fold cross-validator with 5 splits."
   ]
  },
  {
   "cell_type": "code",
   "execution_count": 50,
   "id": "198fe4b8",
   "metadata": {},
   "outputs": [],
   "source": [
    "kf = KFold(n_splits=5, shuffle=True)"
   ]
  },
  {
   "cell_type": "markdown",
   "id": "aef99567",
   "metadata": {},
   "source": [
    "### Random Forest Classifier."
   ]
  },
  {
   "cell_type": "code",
   "execution_count": 51,
   "id": "41de1f17",
   "metadata": {},
   "outputs": [
    {
     "name": "stdout",
     "output_type": "stream",
     "text": [
      "Best parameters:{'max_depth': 5, 'n_estimators': 61}\n",
      "Best score:0.8735184851068649\n"
     ]
    }
   ],
   "source": [
    "#make a list of parameters\n",
    "parameters = {'max_depth': range (1, 10, 2), 'n_estimators': range (1, 100, 20)}\n",
    "#load a model\n",
    "model_rf = RandomForestClassifier(random_state=12345, class_weight='balanced')\n",
    "grid = GridSearchCV(model_rf, parameters, scoring = 'roc_auc', cv=kf, n_jobs=-1)\n",
    "grid.fit(features, target)\n",
    "print('Best parameters:{}\\nBest score:{}'.format(grid.best_params_, grid.best_score_))"
   ]
  },
  {
   "cell_type": "markdown",
   "id": "f4b6eb66",
   "metadata": {},
   "source": [
    "### LogisticRegression"
   ]
  },
  {
   "cell_type": "code",
   "execution_count": 52,
   "id": "9ed33dd1",
   "metadata": {},
   "outputs": [
    {
     "name": "stdout",
     "output_type": "stream",
     "text": [
      "Best parameters:{'penalty': 'l2'}\n",
      "Best score:0.8484688205884454\n"
     ]
    },
    {
     "name": "stderr",
     "output_type": "stream",
     "text": [
      "C:\\Users\\ilizak\\Anaconda3\\lib\\site-packages\\sklearn\\model_selection\\_search.py:918: UserWarning: One or more of the test scores are non-finite: [       nan 0.84846882]\n",
      "  warnings.warn(\n"
     ]
    }
   ],
   "source": [
    "#make a list of parameters\n",
    "parameters = {'penalty': ['l1','l2']}\n",
    "#load a model\n",
    "model_lr = LogisticRegression(random_state=12345, class_weight='balanced', multi_class='ovr')\n",
    "grid = GridSearchCV(model_lr, parameters, scoring = 'roc_auc', cv=kf, n_jobs=-1)\n",
    "grid.fit(features, target)\n",
    "print('Best parameters:{}\\nBest score:{}'.format(grid.best_params_, grid.best_score_))"
   ]
  },
  {
   "cell_type": "markdown",
   "id": "f0821f18",
   "metadata": {},
   "source": [
    "### XGBClassifier"
   ]
  },
  {
   "cell_type": "code",
   "execution_count": 53,
   "id": "97364e14",
   "metadata": {},
   "outputs": [
    {
     "name": "stdout",
     "output_type": "stream",
     "text": [
      "Fitting 5 folds for each of 25 candidates, totalling 125 fits\n",
      "Best parameters:{'max_depth': 2, 'n_estimators': 100}\n",
      "Best score:0.8679339133889886\n"
     ]
    }
   ],
   "source": [
    "#make a list of parameters\n",
    "parameters = {'n_estimators': [50, 100, 150, 200, 500], 'max_depth': [2, 4, 6, 8, 10]}\n",
    "#load a model\n",
    "model = XGBClassifier()\n",
    "grid = GridSearchCV(model, parameters, scoring=\"roc_auc\", n_jobs=-1, cv=kf, verbose=1)\n",
    "grid.fit(features, target)\n",
    "print('Best parameters:{}\\nBest score:{}'.format(grid.best_params_, grid.best_score_))"
   ]
  },
  {
   "cell_type": "markdown",
   "id": "295d814b",
   "metadata": {},
   "source": [
    "Best result is shown by XGBClassifier.Let's calibrate the model with best parameters."
   ]
  },
  {
   "cell_type": "code",
   "execution_count": 54,
   "id": "2fc8a2e5",
   "metadata": {},
   "outputs": [
    {
     "data": {
      "text/plain": [
       "0.8875140607424072"
      ]
     },
     "execution_count": 54,
     "metadata": {},
     "output_type": "execute_result"
    }
   ],
   "source": [
    "model = XGBClassifier(max_depth=2, n_estimators = 100, random_state=12345)\n",
    "model.fit(features, target)\n",
    "calibrated = CalibratedClassifierCV(model, method=\"sigmoid\", cv=8)\n",
    "calibrated.fit(features, target)\n",
    "calibrated.score(features,target)"
   ]
  },
  {
   "cell_type": "markdown",
   "id": "c1e67a62",
   "metadata": {},
   "source": [
    "Check which features are the most important for our model."
   ]
  },
  {
   "cell_type": "code",
   "execution_count": 55,
   "id": "422d047a",
   "metadata": {},
   "outputs": [
    {
     "data": {
      "image/png": "[encoded data removed]",
      "text/plain": [
       "<Figure size 720x504 with 1 Axes>"
      ]
     },
     "metadata": {
      "needs_background": "light"
     },
     "output_type": "display_data"
    }
   ],
   "source": [
    "feature_names = features.columns\n",
    "importances = model.feature_importances_\n",
    "forest_importances = pd.Series(importances, index=feature_names)\n",
    "\n",
    "std = np.std([model.feature_importances_ for tree in str(1000)], axis=0)\n",
    "\n",
    "fig, ax = plt.subplots(figsize=(10,7))\n",
    "forest_importances.plot.bar(yerr=std, ax=ax)\n",
    "ax.set_title(\"Feature importances\")\n",
    "ax.set_ylabel(\"Mean decrease in impurity\")\n",
    "fig.tight_layout()"
   ]
  },
  {
   "cell_type": "markdown",
   "id": "26934669",
   "metadata": {},
   "source": [
    "The model used mostly all of the features that have been expected by us to be important. "
   ]
  },
  {
   "cell_type": "markdown",
   "id": "132f0db2",
   "metadata": {},
   "source": [
    "## Export the prediction dataset"
   ]
  },
  {
   "cell_type": "code",
   "execution_count": 56,
   "id": "73f0c078",
   "metadata": {},
   "outputs": [],
   "source": [
    "prediction = calibrated.predict(test)"
   ]
  },
  {
   "cell_type": "code",
   "execution_count": 59,
   "id": "1d3b6517",
   "metadata": {},
   "outputs": [
    {
     "data": {
      "text/html": [
       "<div>\n",
       "<style scoped>\n",
       "    .dataframe tbody tr th:only-of-type {\n",
       "        vertical-align: middle;\n",
       "    }\n",
       "\n",
       "    .dataframe tbody tr th {\n",
       "        vertical-align: top;\n",
       "    }\n",
       "\n",
       "    .dataframe thead th {\n",
       "        text-align: right;\n",
       "    }\n",
       "</style>\n",
       "<table border=\"1\" class=\"dataframe\">\n",
       "  <thead>\n",
       "    <tr style=\"text-align: right;\">\n",
       "      <th></th>\n",
       "      <th>PassengerId</th>\n",
       "      <th>Survived</th>\n",
       "    </tr>\n",
       "  </thead>\n",
       "  <tbody>\n",
       "    <tr>\n",
       "      <th>0</th>\n",
       "      <td>892</td>\n",
       "      <td>0</td>\n",
       "    </tr>\n",
       "    <tr>\n",
       "      <th>1</th>\n",
       "      <td>893</td>\n",
       "      <td>0</td>\n",
       "    </tr>\n",
       "    <tr>\n",
       "      <th>2</th>\n",
       "      <td>894</td>\n",
       "      <td>0</td>\n",
       "    </tr>\n",
       "    <tr>\n",
       "      <th>3</th>\n",
       "      <td>895</td>\n",
       "      <td>0</td>\n",
       "    </tr>\n",
       "    <tr>\n",
       "      <th>4</th>\n",
       "      <td>896</td>\n",
       "      <td>1</td>\n",
       "    </tr>\n",
       "  </tbody>\n",
       "</table>\n",
       "</div>"
      ],
      "text/plain": [
       "   PassengerId  Survived\n",
       "0          892         0\n",
       "1          893         0\n",
       "2          894         0\n",
       "3          895         0\n",
       "4          896         1"
      ]
     },
     "metadata": {},
     "output_type": "display_data"
    }
   ],
   "source": [
    "ids = pd.read_csv('test.csv')[['PassengerId']].values\n",
    "df = {'PassengerId': ids.ravel(), 'Survived':prediction}\n",
    "submission = pd.DataFrame(df)\n",
    "display(submission.head())\n",
    "submission.to_csv('submission.csv', index=False)"
   ]
  }
 ],
 "metadata": {
  "kernelspec": {
   "display_name": "Python 3",
   "language": "python",
   "name": "python3"
  },
  "language_info": {
   "codemirror_mode": {
    "name": "ipython",
    "version": 3
   },
   "file_extension": ".py",
   "mimetype": "text/x-python",
   "name": "python",
   "nbconvert_exporter": "python",
   "pygments_lexer": "ipython3",
   "version": "3.8.8"
  }
 },
 "nbformat": 4,
 "nbformat_minor": 5
}
